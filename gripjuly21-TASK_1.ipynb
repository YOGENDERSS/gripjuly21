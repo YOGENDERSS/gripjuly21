      
      
       # The Spark Foundation #GRIPJULY21
        
       # TASK1:Prediction using Supervised ML

       #  AUTHOR: Yogender Singh

       # Predict the percentage of a student based on the number of study hours

      #  What will be the predicted score if a student studies for 9.25 hrs/day

      #  Dataset-(https://bit.ly/w-data)

#  Importing Libraries
          
import numpy as np
import pandas as pd
import matplotlib.pyplot as plt

%matplotlib inline

     #Importing The Dataset

dataset = pd.read_csv('DATA.CSV')
dataset.head()
dataset.shape

# No need of doing the ENCODING OF CATEGORICAL DATA AS THE DATA IS NOT CATEGORICAL

#plotting the distibution of scores

dataset.plot(x='Hours',y='Scores',style='o')
plt.title("Hours studied Vs Percentage Scored")
plt.xlabel("number of hours studied")
plt.ylabel("percentage scored")
plt.show()

#DATA PREPROCESSING
#(HERE X IS FOR DEPENDENT VARIABLE SCORE AND Y IS FOR DEPENDEND VARIABLE HOURS)
     X=dataset.iloc[:,:-1].values
     Y=dataset.iloc[:,-1].values

#PRINTING THE DEPENDENT VARIABLE AND SHOWING THE TABLE
print(X)
#PRINTING THE INDEPENDENT VARIABLE AND SHOWING THE TABLE
print(Y)

dataset.corr()

#spitting dataset into training set and test set

from sklearn.model_selection import train_test_split
X_train,X_test,Y_train,Y_test=train_test_split(X,Y,test_size=0.2,random_state=0)

print(X_train)
print(Y_train)
print(X_test)
print(Y_test)

#Training the simple linear regresson model on the training set
from sklearn.linear_model import LinearRegression
regressor=LinearRegression()
regressor.fit(X_train,Y_train)

#Predicting the results
print(X_test)
Y_pred=regressor.predict(X_test)

df=pd.DataFrame({'Actual':Y_test,'Predicted':Y_pred})
df

#Visualising the training set results

plt.scatter(X_train,Y_train,color='blue')
plt.plot(X_train,regressor.predict(X_train),color='green')
plt.title("Hours studied Vs Percent(%) Scored")
plt.xlabel("No. of hours studied")
plt.ylabel("Percent(%) Scored")
plt.show()

#Visualising the test set results

plt.scatter(X_test,Y_test,color='red')
plt.plot(X_test,regressor.predict(X_test),color='black')
plt.title('Hours studied Vs Percentage Scored')
plt.xlabel('Number of hours studied')
plt.ylabel('Percentage Scored')
plt.show()

#What will be predicted score if a student studies for 9.25 hrs/day?

hours=[9.25]
given_pred=regressor.predict([hours])
print("no of hours={}".format(hours))
print("predicted Score={}".format(given_pred[0]))

# No feature scaling in this case
#Model Evaluation
    
from sklearn import metrics
print('Mean Absolute Error:',metrics.mean_absolute_error(Y_test,Y_pred))

#Getting final linear regression equation with the value of the coefficient
print(regressor.coef_)
print(regressor.intercept_)